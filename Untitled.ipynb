{
 "cells": [
  {
   "cell_type": "code",
   "execution_count": 1,
   "metadata": {
    "collapsed": true
   },
   "outputs": [],
   "source": [
    "import pandas as pd"
   ]
  },
  {
   "cell_type": "code",
   "execution_count": 2,
   "metadata": {
    "collapsed": false
   },
   "outputs": [],
   "source": [
    "import json\n",
    "with open('0021500509.json') as infile:\n",
    "    json_data = json.load(infile)"
   ]
  },
  {
   "cell_type": "code",
   "execution_count": 3,
   "metadata": {
    "collapsed": false
   },
   "outputs": [],
   "source": [
    "gamedata = json_data['events']\n",
    "home = gamedata[0]['home']\n",
    "away = gamedata[0]['visitor']"
   ]
  },
  {
   "cell_type": "code",
   "execution_count": 4,
   "metadata": {
    "collapsed": false
   },
   "outputs": [],
   "source": [
    "headers = [\"team_id\", \"player_id\", \"x_loc\", \"y_loc\", \n",
    "           \"radius\", \"moment\", \"quarter\", \"game_clock\", \"shot_clock\"]"
   ]
  },
  {
   "cell_type": "code",
   "execution_count": 5,
   "metadata": {
    "collapsed": false
   },
   "outputs": [],
   "source": [
    "player_moments = []\n",
    "moment_count = 0\n",
    "#For each play in the game\n",
    "for play in gamedata:\n",
    "    #For each moment within each play\n",
    "    for moment in play['moments']:\n",
    "    # For each player/ball in the list found within each moment\n",
    "        for player in moment[5]:\n",
    "        # Add additional information to each player/ball\n",
    "        # This info includes the index of each moment, the game clock\n",
    "        # and shot clock values for each moment\n",
    "            player.extend((moment_count, moment[0], moment[2], moment[3]))\n",
    "            player_moments.append(player)\n",
    "        moment_count += 1"
   ]
  },
  {
   "cell_type": "code",
   "execution_count": 6,
   "metadata": {
    "collapsed": false
   },
   "outputs": [],
   "source": [
    "df = pd.DataFrame(player_moments, columns=headers)"
   ]
  },
  {
   "cell_type": "code",
   "execution_count": 7,
   "metadata": {
    "collapsed": false
   },
   "outputs": [
    {
     "data": {
      "text/html": [
       "<div>\n",
       "<table border=\"1\" class=\"dataframe\">\n",
       "  <thead>\n",
       "    <tr style=\"text-align: right;\">\n",
       "      <th></th>\n",
       "      <th>team_id</th>\n",
       "      <th>player_id</th>\n",
       "      <th>x_loc</th>\n",
       "      <th>y_loc</th>\n",
       "      <th>radius</th>\n",
       "      <th>moment</th>\n",
       "      <th>quarter</th>\n",
       "      <th>game_clock</th>\n",
       "      <th>shot_clock</th>\n",
       "    </tr>\n",
       "  </thead>\n",
       "  <tbody>\n",
       "    <tr>\n",
       "      <th>0</th>\n",
       "      <td>-1</td>\n",
       "      <td>-1</td>\n",
       "      <td>47.35287</td>\n",
       "      <td>27.54423</td>\n",
       "      <td>4.18273</td>\n",
       "      <td>0</td>\n",
       "      <td>1</td>\n",
       "      <td>720</td>\n",
       "      <td>NaN</td>\n",
       "    </tr>\n",
       "    <tr>\n",
       "      <th>1</th>\n",
       "      <td>1610612743</td>\n",
       "      <td>2749</td>\n",
       "      <td>71.41296</td>\n",
       "      <td>27.99332</td>\n",
       "      <td>0.00000</td>\n",
       "      <td>0</td>\n",
       "      <td>1</td>\n",
       "      <td>720</td>\n",
       "      <td>NaN</td>\n",
       "    </tr>\n",
       "    <tr>\n",
       "      <th>2</th>\n",
       "      <td>1610612743</td>\n",
       "      <td>202702</td>\n",
       "      <td>60.47177</td>\n",
       "      <td>24.36351</td>\n",
       "      <td>0.00000</td>\n",
       "      <td>0</td>\n",
       "      <td>1</td>\n",
       "      <td>720</td>\n",
       "      <td>NaN</td>\n",
       "    </tr>\n",
       "    <tr>\n",
       "      <th>3</th>\n",
       "      <td>1610612743</td>\n",
       "      <td>201568</td>\n",
       "      <td>47.66749</td>\n",
       "      <td>32.62336</td>\n",
       "      <td>0.00000</td>\n",
       "      <td>0</td>\n",
       "      <td>1</td>\n",
       "      <td>720</td>\n",
       "      <td>NaN</td>\n",
       "    </tr>\n",
       "    <tr>\n",
       "      <th>4</th>\n",
       "      <td>1610612743</td>\n",
       "      <td>203914</td>\n",
       "      <td>47.71242</td>\n",
       "      <td>16.67739</td>\n",
       "      <td>0.00000</td>\n",
       "      <td>0</td>\n",
       "      <td>1</td>\n",
       "      <td>720</td>\n",
       "      <td>NaN</td>\n",
       "    </tr>\n",
       "  </tbody>\n",
       "</table>\n",
       "</div>"
      ],
      "text/plain": [
       "      team_id  player_id     x_loc     y_loc   radius  moment  quarter  \\\n",
       "0          -1         -1  47.35287  27.54423  4.18273       0        1   \n",
       "1  1610612743       2749  71.41296  27.99332  0.00000       0        1   \n",
       "2  1610612743     202702  60.47177  24.36351  0.00000       0        1   \n",
       "3  1610612743     201568  47.66749  32.62336  0.00000       0        1   \n",
       "4  1610612743     203914  47.71242  16.67739  0.00000       0        1   \n",
       "\n",
       "   game_clock  shot_clock  \n",
       "0         720         NaN  \n",
       "1         720         NaN  \n",
       "2         720         NaN  \n",
       "3         720         NaN  \n",
       "4         720         NaN  "
      ]
     },
     "execution_count": 7,
     "metadata": {},
     "output_type": "execute_result"
    }
   ],
   "source": [
    "df.head()"
   ]
  },
  {
   "cell_type": "code",
   "execution_count": 8,
   "metadata": {
    "collapsed": false
   },
   "outputs": [],
   "source": [
    "# creates the players list with the home players\n",
    "players = home[\"players\"]\n",
    "# Then add on the visiting players\n",
    "players.extend(away[\"players\"])"
   ]
  },
  {
   "cell_type": "code",
   "execution_count": 9,
   "metadata": {
    "collapsed": true
   },
   "outputs": [],
   "source": [
    "# initialize new dictionary\n",
    "id_dict = {}\n",
    "\n",
    "# Add the values we want\n",
    "for player in players:\n",
    "    id_dict[player['playerid']] = [player[\"firstname\"]+\" \"+player[\"lastname\"],\n",
    "                                   player[\"jersey\"]]"
   ]
  },
  {
   "cell_type": "code",
   "execution_count": 10,
   "metadata": {
    "collapsed": false
   },
   "outputs": [
    {
     "data": {
      "text/plain": [
       "{2034: ['Mike Miller', '3'],\n",
       " 2549: ['Chris Kaman', '35'],\n",
       " 2749: ['Jameer Nelson', '1'],\n",
       " 200751: ['Randy Foye', '4'],\n",
       " 201568: ['Danilo Gallinari', '8'],\n",
       " 201581: ['JJ Hickson', '7'],\n",
       " 201589: ['Darrell Arthur', '00'],\n",
       " 201945: ['Gerald Henderson', '9'],\n",
       " 202329: ['Al-Farouq Aminu', '8'],\n",
       " 202334: ['Ed Davis', '17'],\n",
       " 202702: ['Kenneth Faried', '35'],\n",
       " 203086: ['Meyers Leonard', '11'],\n",
       " 203090: ['Maurice Harkless', '4'],\n",
       " 203115: ['Will Barton', '5'],\n",
       " 203123: ['Kostas Papanikolaou', '16'],\n",
       " 203459: ['Allen Crabbe', '23'],\n",
       " 203468: ['CJ McCollum', '3'],\n",
       " 203486: ['Mason Plumlee', '24'],\n",
       " 203530: ['Joffrey Lauvergne', '77'],\n",
       " 203914: ['Gary Harris', '14'],\n",
       " 203943: ['Noah Vonleh', '21'],\n",
       " 203994: ['Jusuf Nurkic', '23'],\n",
       " 203999: ['Nikola Jokic', '15'],\n",
       " 204025: ['Tim Frazier', '10'],\n",
       " 1626192: ['Pat Connaughton', '5'],\n",
       " 1626242: ['Luis Montero', '44']}"
      ]
     },
     "execution_count": 10,
     "metadata": {},
     "output_type": "execute_result"
    }
   ],
   "source": [
    "id_dict"
   ]
  },
  {
   "cell_type": "code",
   "execution_count": 11,
   "metadata": {
    "collapsed": false
   },
   "outputs": [],
   "source": [
    "import numpy as np\n",
    "id_dict.update({-1: ['ball', np.nan]})"
   ]
  },
  {
   "cell_type": "code",
   "execution_count": 12,
   "metadata": {
    "collapsed": true
   },
   "outputs": [],
   "source": [
    "def tot_time(row):\n",
    "    if row['quarter'] == 1:\n",
    "        return row['game_clock'] + 2160.0\n",
    "    elif row['quarter'] == 2:\n",
    "        return row['game_clock'] + 1440.0\n",
    "    elif row['quarter'] == 3:\n",
    "        return row['game_clock'] + 720.0\n",
    "    elif row['quarter'] == 4:\n",
    "        return row['game_clock']\n",
    "    else:\n",
    "        return np.nan"
   ]
  },
  {
   "cell_type": "code",
   "execution_count": 13,
   "metadata": {
    "collapsed": false
   },
   "outputs": [],
   "source": [
    "df[\"player_name\"] = df.player_id.map(lambda x: id_dict[x][0])\n",
    "df[\"player_jersey\"] = df.player_id.map(lambda x: id_dict[x][1])\n",
    "df[\"total_time_remaining\"] = df.apply(tot_time, axis=1)"
   ]
  },
  {
   "cell_type": "code",
   "execution_count": 14,
   "metadata": {
    "collapsed": true
   },
   "outputs": [],
   "source": [
    "from matplotlib.patches import Circle, Rectangle, Arc\n",
    "\n",
    "# Function to draw the basketball court lines\n",
    "def draw_court(ax=None, color=\"gray\", lw=1, zorder=0):\n",
    "    \n",
    "    if ax is None:\n",
    "        ax = plt.gca()\n",
    "\n",
    "    # Creates the out of bounds lines around the court\n",
    "    outer = Rectangle((0,-50), width=94, height=50, color=color,\n",
    "                      zorder=zorder, fill=False, lw=lw)\n",
    "\n",
    "    # The left and right basketball hoops\n",
    "    l_hoop = Circle((5.35,-25), radius=.75, lw=lw, fill=False, \n",
    "                    color=color, zorder=zorder)\n",
    "    r_hoop = Circle((88.65,-25), radius=.75, lw=lw, fill=False,\n",
    "                    color=color, zorder=zorder)\n",
    "    \n",
    "    # Left and right backboards\n",
    "    l_backboard = Rectangle((4,-28), 0, 6, lw=lw, color=color,\n",
    "                            zorder=zorder)\n",
    "    r_backboard = Rectangle((90, -28), 0, 6, lw=lw,color=color,\n",
    "                            zorder=zorder)\n",
    "\n",
    "    # Left and right paint areas\n",
    "    l_outer_box = Rectangle((0, -33), 19, 16, lw=lw, fill=False,\n",
    "                            color=color, zorder=zorder)    \n",
    "    l_inner_box = Rectangle((0, -31), 19, 12, lw=lw, fill=False,\n",
    "                            color=color, zorder=zorder)\n",
    "    r_outer_box = Rectangle((75, -33), 19, 16, lw=lw, fill=False,\n",
    "                            color=color, zorder=zorder)\n",
    "\n",
    "    r_inner_box = Rectangle((75, -31), 19, 12, lw=lw, fill=False,\n",
    "                            color=color, zorder=zorder)\n",
    "\n",
    "    # Left and right free throw circles\n",
    "    l_free_throw = Circle((19,-25), radius=6, lw=lw, fill=False,\n",
    "                          color=color, zorder=zorder)\n",
    "    r_free_throw = Circle((75, -25), radius=6, lw=lw, fill=False,\n",
    "                          color=color, zorder=zorder)\n",
    "\n",
    "    # Left and right corner 3-PT lines\n",
    "    # a represents the top lines\n",
    "    # b represents the bottom lines\n",
    "    l_corner_a = Rectangle((0,-3), 14, 0, lw=lw, color=color,\n",
    "                           zorder=zorder)\n",
    "    l_corner_b = Rectangle((0,-47), 14, 0, lw=lw, color=color,\n",
    "                           zorder=zorder)\n",
    "    r_corner_a = Rectangle((80, -3), 14, 0, lw=lw, color=color,\n",
    "                           zorder=zorder)\n",
    "    r_corner_b = Rectangle((80, -47), 14, 0, lw=lw, color=color,\n",
    "                           zorder=zorder)\n",
    "    \n",
    "    # Left and right 3-PT line arcs\n",
    "    l_arc = Arc((5,-25), 47.5, 47.5, theta1=292, theta2=68, lw=lw,\n",
    "                color=color, zorder=zorder)\n",
    "    r_arc = Arc((89, -25), 47.5, 47.5, theta1=112, theta2=248, lw=lw,\n",
    "                color=color, zorder=zorder)\n",
    "\n",
    "    # half_court\n",
    "    # ax.axvline(470)\n",
    "    half_court = Rectangle((47,-50), 0, 50, lw=lw, color=color,\n",
    "                           zorder=zorder)\n",
    "\n",
    "    hc_big_circle = Circle((47, -25), radius=6, lw=lw, fill=False,\n",
    "                           color=color, zorder=zorder)\n",
    "    hc_sm_circle = Circle((47, -25), radius=2, lw=lw, fill=False,\n",
    "                          color=color, zorder=zorder)\n",
    "\n",
    "    court_elements = [l_hoop, l_backboard, l_outer_box, outer,\n",
    "                      l_inner_box, l_free_throw, l_corner_a,\n",
    "                      l_corner_b, l_arc, r_hoop, r_backboard, \n",
    "                      r_outer_box, r_inner_box, r_free_throw,\n",
    "                      r_corner_a, r_corner_b, r_arc, half_court,\n",
    "                      hc_big_circle, hc_sm_circle]\n",
    "\n",
    "    # Add the court elements onto the axes\n",
    "    for element in court_elements:\n",
    "        ax.add_patch(element)\n",
    "\n",
    "    return ax"
   ]
  },
  {
   "cell_type": "code",
   "execution_count": 15,
   "metadata": {
    "collapsed": false
   },
   "outputs": [],
   "source": [
    "mccollum = df[df.player_name==\"CJ McCollum\"]"
   ]
  },
  {
   "cell_type": "code",
   "execution_count": 16,
   "metadata": {
    "collapsed": false
   },
   "outputs": [
    {
     "data": {
      "text/plain": [
       "'\"plt.figure(figsize=(15, 11.5))\\n\\n# Plot the movemnts as scatter plot\\n# using a colormap to show change in game clock\\nplt.scatter(mccollum.x_loc, -mccollum.y_loc, c=mccollum.game_clock,\\n            cmap=plt.cm.Blues, s=100, zorder=1)\\n# Darker colors represent moments earlier on in the game\\ncbar = plt.colorbar(orientation=\"horizontal\")\\n# invert the colorbar to have higher numbers on the left\\ncbar.ax.invert_xaxis()\\n\\ndraw_court()\\n\\nplt.xlim(0, 101)\\nplt.ylim(-50, 0)\\nplt.show()'"
      ]
     },
     "execution_count": 16,
     "metadata": {},
     "output_type": "execute_result"
    }
   ],
   "source": [
    "import matplotlib.pyplot as plt\n",
    "\"\"\"\"plt.figure(figsize=(15, 11.5))\n",
    "\n",
    "# Plot the movemnts as scatter plot\n",
    "# using a colormap to show change in game clock\n",
    "plt.scatter(mccollum.x_loc, -mccollum.y_loc, c=mccollum.game_clock,\n",
    "            cmap=plt.cm.Blues, s=100, zorder=1)\n",
    "# Darker colors represent moments earlier on in the game\n",
    "cbar = plt.colorbar(orientation=\"horizontal\")\n",
    "# invert the colorbar to have higher numbers on the left\n",
    "cbar.ax.invert_xaxis()\n",
    "\n",
    "draw_court()\n",
    "\n",
    "plt.xlim(0, 101)\n",
    "plt.ylim(-50, 0)\n",
    "plt.show()\"\"\""
   ]
  },
  {
   "cell_type": "code",
   "execution_count": 17,
   "metadata": {
    "collapsed": true
   },
   "outputs": [],
   "source": [
    "def travel_dist(player_locations):\n",
    "    # get the differences for each column\n",
    "    diff = np.diff(player_locations, axis=0)\n",
    "    # square the differences and add them,\n",
    "    # then get the square root of that sum\n",
    "    dist = np.sqrt((diff ** 2).sum(axis=1))\n",
    "    # Then return the sum of all the distances\n",
    "    return dist"
   ]
  },
  {
   "cell_type": "code",
   "execution_count": 18,
   "metadata": {
    "collapsed": false
   },
   "outputs": [],
   "source": [
    "player_travel_dist = df.groupby('player_name')[['x_loc', 'y_loc']].apply(travel_dist)"
   ]
  },
  {
   "cell_type": "code",
   "execution_count": 19,
   "metadata": {
    "collapsed": true
   },
   "outputs": [],
   "source": [
    "def player_dist(player_a, player_b):\n",
    "    return [euclidean(player_a.iloc[i], player_b.iloc[i])\n",
    "            for i in range(len(player_a))]"
   ]
  },
  {
   "cell_type": "code",
   "execution_count": 20,
   "metadata": {
    "collapsed": false
   },
   "outputs": [],
   "source": [
    "player_travel_dist = df.groupby('player_name')[['x_loc', 'y_loc']].apply(travel_dist)"
   ]
  },
  {
   "cell_type": "code",
   "execution_count": 33,
   "metadata": {
    "collapsed": false
   },
   "outputs": [],
   "source": [
    "mccollum = mccollum.sort_values(by=['total_time_remaining','moment'],ascending=[False,True])"
   ]
  },
  {
   "cell_type": "code",
   "execution_count": 34,
   "metadata": {
    "collapsed": false
   },
   "outputs": [
    {
     "data": {
      "text/html": [
       "<div>\n",
       "<table border=\"1\" class=\"dataframe\">\n",
       "  <thead>\n",
       "    <tr style=\"text-align: right;\">\n",
       "      <th></th>\n",
       "      <th>team_id</th>\n",
       "      <th>player_id</th>\n",
       "      <th>x_loc</th>\n",
       "      <th>y_loc</th>\n",
       "      <th>radius</th>\n",
       "      <th>moment</th>\n",
       "      <th>quarter</th>\n",
       "      <th>game_clock</th>\n",
       "      <th>shot_clock</th>\n",
       "      <th>player_name</th>\n",
       "      <th>player_jersey</th>\n",
       "      <th>total_time_remaining</th>\n",
       "    </tr>\n",
       "  </thead>\n",
       "  <tbody>\n",
       "    <tr>\n",
       "      <th>8</th>\n",
       "      <td>1610612757</td>\n",
       "      <td>203468</td>\n",
       "      <td>25.12799</td>\n",
       "      <td>21.35835</td>\n",
       "      <td>0</td>\n",
       "      <td>0</td>\n",
       "      <td>1</td>\n",
       "      <td>720</td>\n",
       "      <td>NaN</td>\n",
       "      <td>CJ McCollum</td>\n",
       "      <td>3</td>\n",
       "      <td>2880</td>\n",
       "    </tr>\n",
       "    <tr>\n",
       "      <th>19</th>\n",
       "      <td>1610612757</td>\n",
       "      <td>203468</td>\n",
       "      <td>25.11749</td>\n",
       "      <td>21.35466</td>\n",
       "      <td>0</td>\n",
       "      <td>1</td>\n",
       "      <td>1</td>\n",
       "      <td>720</td>\n",
       "      <td>NaN</td>\n",
       "      <td>CJ McCollum</td>\n",
       "      <td>3</td>\n",
       "      <td>2880</td>\n",
       "    </tr>\n",
       "    <tr>\n",
       "      <th>30</th>\n",
       "      <td>1610612757</td>\n",
       "      <td>203468</td>\n",
       "      <td>25.11366</td>\n",
       "      <td>21.34525</td>\n",
       "      <td>0</td>\n",
       "      <td>2</td>\n",
       "      <td>1</td>\n",
       "      <td>720</td>\n",
       "      <td>NaN</td>\n",
       "      <td>CJ McCollum</td>\n",
       "      <td>3</td>\n",
       "      <td>2880</td>\n",
       "    </tr>\n",
       "    <tr>\n",
       "      <th>41</th>\n",
       "      <td>1610612757</td>\n",
       "      <td>203468</td>\n",
       "      <td>25.10040</td>\n",
       "      <td>21.35602</td>\n",
       "      <td>0</td>\n",
       "      <td>3</td>\n",
       "      <td>1</td>\n",
       "      <td>720</td>\n",
       "      <td>NaN</td>\n",
       "      <td>CJ McCollum</td>\n",
       "      <td>3</td>\n",
       "      <td>2880</td>\n",
       "    </tr>\n",
       "    <tr>\n",
       "      <th>52</th>\n",
       "      <td>1610612757</td>\n",
       "      <td>203468</td>\n",
       "      <td>25.10680</td>\n",
       "      <td>21.35516</td>\n",
       "      <td>0</td>\n",
       "      <td>4</td>\n",
       "      <td>1</td>\n",
       "      <td>720</td>\n",
       "      <td>NaN</td>\n",
       "      <td>CJ McCollum</td>\n",
       "      <td>3</td>\n",
       "      <td>2880</td>\n",
       "    </tr>\n",
       "  </tbody>\n",
       "</table>\n",
       "</div>"
      ],
      "text/plain": [
       "       team_id  player_id     x_loc     y_loc  radius  moment  quarter  \\\n",
       "8   1610612757     203468  25.12799  21.35835       0       0        1   \n",
       "19  1610612757     203468  25.11749  21.35466       0       1        1   \n",
       "30  1610612757     203468  25.11366  21.34525       0       2        1   \n",
       "41  1610612757     203468  25.10040  21.35602       0       3        1   \n",
       "52  1610612757     203468  25.10680  21.35516       0       4        1   \n",
       "\n",
       "    game_clock  shot_clock  player_name player_jersey  total_time_remaining  \n",
       "8          720         NaN  CJ McCollum             3                  2880  \n",
       "19         720         NaN  CJ McCollum             3                  2880  \n",
       "30         720         NaN  CJ McCollum             3                  2880  \n",
       "41         720         NaN  CJ McCollum             3                  2880  \n",
       "52         720         NaN  CJ McCollum             3                  2880  "
      ]
     },
     "execution_count": 34,
     "metadata": {},
     "output_type": "execute_result"
    }
   ],
   "source": [
    "mccollum.head()"
   ]
  },
  {
   "cell_type": "code",
   "execution_count": 35,
   "metadata": {
    "collapsed": false
   },
   "outputs": [],
   "source": [
    "mccollum_dist = travel_dist(mccollum[['x_loc', 'y_loc']])\n",
    "mccollum_time = mccollum[['total_time_remaining']][:-1].values"
   ]
  },
  {
   "cell_type": "code",
   "execution_count": 36,
   "metadata": {
    "collapsed": false,
    "scrolled": true
   },
   "outputs": [
    {
     "data": {
      "text/plain": [
       "array([[ 2880. ],\n",
       "       [ 2880. ],\n",
       "       [ 2880. ],\n",
       "       ..., \n",
       "       [   37.8],\n",
       "       [   37.8],\n",
       "       [   37.8]])"
      ]
     },
     "execution_count": 36,
     "metadata": {},
     "output_type": "execute_result"
    }
   ],
   "source": [
    "mccollum_time"
   ]
  },
  {
   "cell_type": "code",
   "execution_count": 37,
   "metadata": {
    "collapsed": false
   },
   "outputs": [],
   "source": [
    "plt.figure()\n",
    "plt.plot(mccollum_time)\n",
    "#plt.xticks(mccollum_dist, mccollum_time)\n",
    "#plt.xlim(23389,23392)\n",
    "#plt.ylim(0,4)\n",
    "#plt.gca().invert_xaxis()\n",
    "plt.show()"
   ]
  },
  {
   "cell_type": "code",
   "execution_count": null,
   "metadata": {
    "collapsed": true
   },
   "outputs": [],
   "source": []
  }
 ],
 "metadata": {
  "kernelspec": {
   "display_name": "Python 3",
   "language": "python",
   "name": "python3"
  },
  "language_info": {
   "codemirror_mode": {
    "name": "ipython",
    "version": 3
   },
   "file_extension": ".py",
   "mimetype": "text/x-python",
   "name": "python",
   "nbconvert_exporter": "python",
   "pygments_lexer": "ipython3",
   "version": "3.5.1"
  }
 },
 "nbformat": 4,
 "nbformat_minor": 0
}
